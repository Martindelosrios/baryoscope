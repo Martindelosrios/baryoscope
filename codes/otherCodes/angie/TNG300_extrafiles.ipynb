{
 "cells": [
  {
   "cell_type": "code",
   "execution_count": 1,
   "id": "a7a35396-3894-4311-80a2-78d80096fc55",
   "metadata": {
    "tags": []
   },
   "outputs": [],
   "source": [
    "import requests\n",
    "\n",
    "baseUrl = 'http://www.tng-project.org/api/TNG300-1/files/halo_structure/'\n",
    "headers = {\"api-key\":\"cf7cdd8e1bdd7f93b156d3bdd5859e2b\"}\n",
    "\n",
    "def get(path, params=None):\n",
    "    # make HTTP GET request to path\n",
    "    r = requests.get(path, params=params, headers=headers)\n",
    "\n",
    "    # raise exception if response code is not HTTP SUCCESS (200)\n",
    "    r.raise_for_status()\n",
    "\n",
    "    if r.headers['content-type'] == 'application/json':\n",
    "        return r.json() # parse json responses automatically\n",
    "    return r"
   ]
  },
  {
   "cell_type": "code",
   "execution_count": 2,
   "id": "f1f3119b-50c2-480a-aa7e-082377984b9b",
   "metadata": {
    "tags": []
   },
   "outputs": [],
   "source": [
    "r = get(baseUrl)"
   ]
  },
  {
   "cell_type": "code",
   "execution_count": 3,
   "id": "e7049bc9-5e95-4bba-93fa-a7211a918f00",
   "metadata": {
    "tags": []
   },
   "outputs": [
    {
     "data": {
      "text/plain": [
       "dict_keys(['files'])"
      ]
     },
     "execution_count": 3,
     "metadata": {},
     "output_type": "execute_result"
    }
   ],
   "source": [
    "r.keys()"
   ]
  },
  {
   "cell_type": "code",
   "execution_count": 4,
   "id": "49baa721-e6d8-46fd-b6f3-46db04c535f1",
   "metadata": {
    "tags": []
   },
   "outputs": [
    {
     "data": {
      "text/plain": [
       "20"
      ]
     },
     "execution_count": 4,
     "metadata": {},
     "output_type": "execute_result"
    }
   ],
   "source": [
    "len(r['files'])"
   ]
  },
  {
   "cell_type": "code",
   "execution_count": 5,
   "id": "11b4ef44-362f-4a59-8049-a7abfa669247",
   "metadata": {
    "tags": []
   },
   "outputs": [
    {
     "data": {
      "text/plain": [
       "'http://www.tng-project.org/api/TNG300-1/files/halo_structure.99.hdf5'"
      ]
     },
     "execution_count": 5,
     "metadata": {},
     "output_type": "execute_result"
    }
   ],
   "source": [
    "URL = r['files'][19]\n",
    "URL"
   ]
  },
  {
   "cell_type": "code",
   "execution_count": 6,
   "id": "1f90aae8-a2be-4d20-b642-5c74603a334c",
   "metadata": {
    "tags": []
   },
   "outputs": [
    {
     "name": "stdout",
     "output_type": "stream",
     "text": [
      "Solicitud exitosa\n",
      "ok\n"
     ]
    }
   ],
   "source": [
    "response = requests.get(URL, params=None, headers=headers)\n",
    "\n",
    "if response.status_code == 200:\n",
    "    print('Solicitud exitosa')\n",
    "    with open('halo_structure.99.hdf5','wb') as file:\n",
    "        file.write(response.content)\n",
    "    print('ok')\n",
    "else:\n",
    "    print('Error en descarga, detalles:', response.text)"
   ]
  },
  {
   "cell_type": "code",
   "execution_count": 9,
   "id": "50e1c020-25e0-4249-add0-c29723afa21f",
   "metadata": {
    "tags": []
   },
   "outputs": [
    {
     "data": {
      "text/plain": [
       "<KeysViewHDF5 ['E_s', 'GroupFlag', 'Header', 'M200c', 'M_acc_dyn', 'Mean_vel', 'R0p9', 'a_form', 'c200c', 'f_mass_Cen', 'q', 'q_vel', 's', 's_vel', 'sigma_1D', 'sigma_3D']>"
      ]
     },
     "execution_count": 9,
     "metadata": {},
     "output_type": "execute_result"
    }
   ],
   "source": [
    "import h5py as h5py\n",
    "h5_filename = 'halo_structure.99.hdf5'\n",
    "f = h5py.File(h5_filename,'r')\n",
    "f.keys()"
   ]
  }
 ],
 "metadata": {
  "kernelspec": {
   "display_name": "Python 3 (ipykernel)",
   "language": "python",
   "name": "python3"
  },
  "language_info": {
   "codemirror_mode": {
    "name": "ipython",
    "version": 3
   },
   "file_extension": ".py",
   "mimetype": "text/x-python",
   "name": "python",
   "nbconvert_exporter": "python",
   "pygments_lexer": "ipython3",
   "version": "3.11.4"
  }
 },
 "nbformat": 4,
 "nbformat_minor": 5
}
